{
 "cells": [
  {
   "cell_type": "code",
   "execution_count": 34,
   "id": "269dbaed",
   "metadata": {},
   "outputs": [],
   "source": [
    "import requests\n",
    "from bs4 import BeautifulSoup  \n",
    "import pandas as pd\n",
    "import re"
   ]
  },
  {
   "cell_type": "code",
   "execution_count": 3,
   "id": "3bd361fe",
   "metadata": {},
   "outputs": [
    {
     "data": {
      "text/plain": [
       "200"
      ]
     },
     "execution_count": 3,
     "metadata": {},
     "output_type": "execute_result"
    }
   ],
   "source": [
    "website_url = 'https://countrymusichalloffame.org/hall-of-fame/members/'\n",
    "response = requests.get(website_url)\n",
    "\n",
    "response.status_code"
   ]
  },
  {
   "cell_type": "code",
   "execution_count": 5,
   "id": "8c9f2de1",
   "metadata": {},
   "outputs": [
    {
     "name": "stdout",
     "output_type": "stream",
     "text": [
      "<title>Hall of Fame Members | Country Music Hall of Fame</title>\n"
     ]
    }
   ],
   "source": [
    "soup = BeautifulSoup(response.content, 'lxml')\n",
    "print(soup.title)"
   ]
  },
  {
   "cell_type": "code",
   "execution_count": null,
   "id": "ddb2046f",
   "metadata": {
    "scrolled": false
   },
   "outputs": [],
   "source": [
    "#print(soup)"
   ]
  },
  {
   "cell_type": "markdown",
   "id": "3a2ed197",
   "metadata": {},
   "source": [
    "Can i get my code to pick up the right items?  "
   ]
  },
  {
   "cell_type": "code",
   "execution_count": null,
   "id": "385d1466",
   "metadata": {},
   "outputs": [],
   "source": [
    "#inductees = soup.find_all(attrs = {'class':'vertical-card'})\n",
    "#inductees"
   ]
  },
  {
   "cell_type": "code",
   "execution_count": 28,
   "id": "9339abbc",
   "metadata": {},
   "outputs": [
    {
     "data": {
      "text/plain": [
       "bs4.element.ResultSet"
      ]
     },
     "execution_count": 28,
     "metadata": {},
     "output_type": "execute_result"
    }
   ],
   "source": [
    "type(inductees)"
   ]
  },
  {
   "cell_type": "code",
   "execution_count": 29,
   "id": "ba9bb11d",
   "metadata": {},
   "outputs": [
    {
     "data": {
      "text/plain": [
       "9"
      ]
     },
     "execution_count": 29,
     "metadata": {},
     "output_type": "execute_result"
    }
   ],
   "source": [
    "len(inductees)"
   ]
  },
  {
   "cell_type": "markdown",
   "id": "9a957f8a",
   "metadata": {},
   "source": [
    "GITHUB CLASS ASSIGNMENT"
   ]
  },
  {
   "cell_type": "markdown",
   "id": "d76f2a88",
   "metadata": {},
   "source": [
    "#1: Start by using either the inspector or by viewing the page source. Can you identify a tag that might be helpful for finding the names of all inductees? Make use of this to create a list containing just the names of each inductee."
   ]
  },
  {
   "cell_type": "markdown",
   "id": "9d6d620a",
   "metadata": {},
   "source": [
    "So, i have: \n",
    "response - the website\n",
    "soup - my soup object\n",
    "and inductees - which is something, but maybe not right?"
   ]
  },
  {
   "cell_type": "code",
   "execution_count": 33,
   "id": "2e6a7957",
   "metadata": {},
   "outputs": [
    {
     "data": {
      "text/plain": [
       "['Roy Acuff',\n",
       " 'Alabama',\n",
       " 'Bill Anderson',\n",
       " 'Eddy Arnold',\n",
       " 'Chet Atkins',\n",
       " 'Gene Autry',\n",
       " 'DeFord Bailey',\n",
       " 'Bobby Bare',\n",
       " 'Johnny Bond']"
      ]
     },
     "execution_count": 33,
     "metadata": {},
     "output_type": "execute_result"
    }
   ],
   "source": [
    "namelist = []\n",
    "for names in soup.find_all('h3'):\n",
    "    namelist.append(names.get_text())\n",
    "namelist"
   ]
  },
  {
   "cell_type": "markdown",
   "id": "a84501c1",
   "metadata": {},
   "source": [
    "#2 Next, try and find a tag that could be used to find the year that each member was inducted. Extract these into a list. When you do this, be sure to only include the year and not the full text. For example, for Roy Acuff, the list entry should be \"1962\" and not \"Inducted 1962\". Double-check that the resulting list has the correct number of elements and is in the same order as your inductees list."
   ]
  },
  {
   "cell_type": "code",
   "execution_count": null,
   "id": "061b3c61",
   "metadata": {},
   "outputs": [],
   "source": [
    "yearlist = []\n",
    "for year in soup.find_all()"
   ]
  }
 ],
 "metadata": {
  "kernelspec": {
   "display_name": "Python 3",
   "language": "python",
   "name": "python3"
  },
  "language_info": {
   "codemirror_mode": {
    "name": "ipython",
    "version": 3
   },
   "file_extension": ".py",
   "mimetype": "text/x-python",
   "name": "python",
   "nbconvert_exporter": "python",
   "pygments_lexer": "ipython3",
   "version": "3.8.8"
  }
 },
 "nbformat": 4,
 "nbformat_minor": 5
}

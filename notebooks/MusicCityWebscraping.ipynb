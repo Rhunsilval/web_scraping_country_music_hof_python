{
 "cells": [
  {
   "cell_type": "code",
   "execution_count": 33,
   "id": "d567708d",
   "metadata": {},
   "outputs": [],
   "source": [
    "import requests\n",
    "from bs4 import BeautifulSoup  \n",
    "import pandas as pd\n",
    "import re\n",
    "import matplotlib.pyplot as plt\n",
    "import seaborn as sns "
   ]
  },
  {
   "cell_type": "code",
   "execution_count": 2,
   "id": "b48e4443",
   "metadata": {},
   "outputs": [
    {
     "data": {
      "text/plain": [
       "200"
      ]
     },
     "execution_count": 2,
     "metadata": {},
     "output_type": "execute_result"
    }
   ],
   "source": [
    "website_url = 'https://countrymusichalloffame.org/hall-of-fame/members/'\n",
    "response = requests.get(website_url)\n",
    "\n",
    "response.status_code"
   ]
  },
  {
   "cell_type": "code",
   "execution_count": 3,
   "id": "73719d8e",
   "metadata": {},
   "outputs": [
    {
     "name": "stdout",
     "output_type": "stream",
     "text": [
      "<title>Hall of Fame Members | Country Music Hall of Fame</title>\n"
     ]
    }
   ],
   "source": [
    "soup = BeautifulSoup(response.content, 'lxml')\n",
    "print(soup.title)"
   ]
  },
  {
   "cell_type": "code",
   "execution_count": 4,
   "id": "4d144805",
   "metadata": {
    "scrolled": false
   },
   "outputs": [],
   "source": [
    "#print(soup)"
   ]
  },
  {
   "cell_type": "markdown",
   "id": "cb1acd55",
   "metadata": {},
   "source": [
    "Can i get my code to pick up the right items?  "
   ]
  },
  {
   "cell_type": "code",
   "execution_count": 5,
   "id": "e9983f5d",
   "metadata": {},
   "outputs": [],
   "source": [
    "#inductees = soup.find_all(attrs = {'class':'vertical-card'})\n",
    "#inductees"
   ]
  },
  {
   "cell_type": "code",
   "execution_count": 6,
   "id": "829c70b3",
   "metadata": {},
   "outputs": [
    {
     "ename": "NameError",
     "evalue": "name 'inductees' is not defined",
     "output_type": "error",
     "traceback": [
      "\u001b[1;31m---------------------------------------------------------------------------\u001b[0m",
      "\u001b[1;31mNameError\u001b[0m                                 Traceback (most recent call last)",
      "\u001b[1;32m<ipython-input-6-963a25ea6849>\u001b[0m in \u001b[0;36m<module>\u001b[1;34m\u001b[0m\n\u001b[1;32m----> 1\u001b[1;33m \u001b[0mtype\u001b[0m\u001b[1;33m(\u001b[0m\u001b[0minductees\u001b[0m\u001b[1;33m)\u001b[0m\u001b[1;33m\u001b[0m\u001b[1;33m\u001b[0m\u001b[0m\n\u001b[0m",
      "\u001b[1;31mNameError\u001b[0m: name 'inductees' is not defined"
     ]
    }
   ],
   "source": [
    "#type(inductees)"
   ]
  },
  {
   "cell_type": "code",
   "execution_count": null,
   "id": "a6709fae",
   "metadata": {},
   "outputs": [],
   "source": [
    "#len(inductees)"
   ]
  },
  {
   "cell_type": "markdown",
   "id": "b569e070",
   "metadata": {},
   "source": [
    "GITHUB CLASS ASSIGNMENT"
   ]
  },
  {
   "cell_type": "markdown",
   "id": "b8d188a0",
   "metadata": {},
   "source": [
    "#1: Start by using either the inspector or by viewing the page source. Can you identify a tag that might be helpful for finding the names of all inductees? Make use of this to create a list containing just the names of each inductee."
   ]
  },
  {
   "cell_type": "markdown",
   "id": "d88f40a3",
   "metadata": {},
   "source": [
    "So, i have: \n",
    "response - the website\n",
    "soup - my soup object\n",
    "and inductees - which is something, but maybe not right?"
   ]
  },
  {
   "cell_type": "code",
   "execution_count": 7,
   "id": "08e5f10a",
   "metadata": {},
   "outputs": [
    {
     "data": {
      "text/plain": [
       "['Roy Acuff',\n",
       " 'Alabama',\n",
       " 'Bill Anderson',\n",
       " 'Eddy Arnold',\n",
       " 'Chet Atkins',\n",
       " 'Gene Autry',\n",
       " 'DeFord Bailey',\n",
       " 'Bobby Bare',\n",
       " 'Johnny Bond']"
      ]
     },
     "execution_count": 7,
     "metadata": {},
     "output_type": "execute_result"
    }
   ],
   "source": [
    "namelist = []\n",
    "for names in soup.find_all('h3'):\n",
    "    namelist.append(names.get_text())\n",
    "namelist"
   ]
  },
  {
   "cell_type": "markdown",
   "id": "cd43defb",
   "metadata": {},
   "source": [
    "#2 Next, try and find a tag that could be used to find the year that each member was inducted. Extract these into a list. When you do this, be sure to only include the year and not the full text. For example, for Roy Acuff, the list entry should be \"1962\" and not \"Inducted 1962\". Double-check that the resulting list has the correct number of elements and is in the same order as your inductees list."
   ]
  },
  {
   "cell_type": "code",
   "execution_count": 8,
   "id": "3b2de488",
   "metadata": {},
   "outputs": [
    {
     "data": {
      "text/plain": [
       "['\\n                    Inducted 1962                  ',\n",
       " '\\n                    Inducted 2005                  ',\n",
       " '\\n                    Inducted 2001                  ',\n",
       " '\\n                    Inducted 1966                  ',\n",
       " '\\n                    Inducted 1973                  ',\n",
       " '\\n                    Inducted 1969                  ',\n",
       " '\\n                    Inducted 2005                  ',\n",
       " '\\n                    Inducted 2013                  ',\n",
       " '\\n                    Inducted 1999                  ']"
      ]
     },
     "execution_count": 8,
     "metadata": {},
     "output_type": "execute_result"
    }
   ],
   "source": [
    "yearlistdirty = []\n",
    "#regex1 = re.compile(r\"\\d{4}\") NOPE!  There's too much code that fits this parameter ... \n",
    "regex1 = re.compile(r\"Inducted\")\n",
    "for year in soup.find_all(text = regex1):\n",
    "    yearlistdirty.append(year)\n",
    "yearlistdirty"
   ]
  },
  {
   "cell_type": "code",
   "execution_count": 9,
   "id": "347c8cd4",
   "metadata": {},
   "outputs": [
    {
     "data": {
      "text/plain": [
       "['1962', '2005', '2001', '1966', '1973', '1969', '2005', '2013', '1999']"
      ]
     },
     "execution_count": 9,
     "metadata": {},
     "output_type": "execute_result"
    }
   ],
   "source": [
    "yearlist = []\n",
    "for text in yearlistdirty:\n",
    "    yearlist.append(text[-22:-18])\n",
    "yearlist"
   ]
  },
  {
   "cell_type": "markdown",
   "id": "70ceaff7",
   "metadata": {},
   "source": [
    "#3: Take the two lists you created on parts 1 and 2 and convert it into a pandas DataFrame."
   ]
  },
  {
   "cell_type": "code",
   "execution_count": 10,
   "id": "0aabcc36",
   "metadata": {},
   "outputs": [
    {
     "data": {
      "text/html": [
       "<div>\n",
       "<style scoped>\n",
       "    .dataframe tbody tr th:only-of-type {\n",
       "        vertical-align: middle;\n",
       "    }\n",
       "\n",
       "    .dataframe tbody tr th {\n",
       "        vertical-align: top;\n",
       "    }\n",
       "\n",
       "    .dataframe thead th {\n",
       "        text-align: right;\n",
       "    }\n",
       "</style>\n",
       "<table border=\"1\" class=\"dataframe\">\n",
       "  <thead>\n",
       "    <tr style=\"text-align: right;\">\n",
       "      <th></th>\n",
       "      <th>names</th>\n",
       "      <th>induction year</th>\n",
       "    </tr>\n",
       "  </thead>\n",
       "  <tbody>\n",
       "    <tr>\n",
       "      <th>0</th>\n",
       "      <td>Roy Acuff</td>\n",
       "      <td>1962</td>\n",
       "    </tr>\n",
       "    <tr>\n",
       "      <th>1</th>\n",
       "      <td>Alabama</td>\n",
       "      <td>2005</td>\n",
       "    </tr>\n",
       "    <tr>\n",
       "      <th>2</th>\n",
       "      <td>Bill Anderson</td>\n",
       "      <td>2001</td>\n",
       "    </tr>\n",
       "    <tr>\n",
       "      <th>3</th>\n",
       "      <td>Eddy Arnold</td>\n",
       "      <td>1966</td>\n",
       "    </tr>\n",
       "    <tr>\n",
       "      <th>4</th>\n",
       "      <td>Chet Atkins</td>\n",
       "      <td>1973</td>\n",
       "    </tr>\n",
       "    <tr>\n",
       "      <th>5</th>\n",
       "      <td>Gene Autry</td>\n",
       "      <td>1969</td>\n",
       "    </tr>\n",
       "    <tr>\n",
       "      <th>6</th>\n",
       "      <td>DeFord Bailey</td>\n",
       "      <td>2005</td>\n",
       "    </tr>\n",
       "    <tr>\n",
       "      <th>7</th>\n",
       "      <td>Bobby Bare</td>\n",
       "      <td>2013</td>\n",
       "    </tr>\n",
       "    <tr>\n",
       "      <th>8</th>\n",
       "      <td>Johnny Bond</td>\n",
       "      <td>1999</td>\n",
       "    </tr>\n",
       "  </tbody>\n",
       "</table>\n",
       "</div>"
      ],
      "text/plain": [
       "           names induction year\n",
       "0      Roy Acuff           1962\n",
       "1        Alabama           2005\n",
       "2  Bill Anderson           2001\n",
       "3    Eddy Arnold           1966\n",
       "4    Chet Atkins           1973\n",
       "5     Gene Autry           1969\n",
       "6  DeFord Bailey           2005\n",
       "7     Bobby Bare           2013\n",
       "8    Johnny Bond           1999"
      ]
     },
     "execution_count": 10,
     "metadata": {},
     "output_type": "execute_result"
    }
   ],
   "source": [
    "inductees = pd.DataFrame()\n",
    "inductees['names'] = namelist\n",
    "inductees['induction year'] = yearlist\n",
    "inductees"
   ]
  },
  {
   "cell_type": "markdown",
   "id": "4c88b873",
   "metadata": {},
   "source": [
    "#4: Now, you need to take what you created for the first page and apply it across the rest of the pages so that you can scrape all inductees. Notice that when you click the next page button at the bottom of the page that the url changes to \"https://countrymusichalloffame.org/hall-of-fame/members/page/2\". Check that the code that you wrote for the first page still works for page 2. Once you have verified that your code will still work, write a for loop that will cycle through all 16 pages and build a DataFrame containing all inductees and the year of their induction."
   ]
  },
  {
   "cell_type": "code",
   "execution_count": 11,
   "id": "e13e3549",
   "metadata": {},
   "outputs": [
    {
     "data": {
      "text/plain": [
       "200"
      ]
     },
     "execution_count": 11,
     "metadata": {},
     "output_type": "execute_result"
    }
   ],
   "source": [
    "website_url2 = 'https://countrymusichalloffame.org/hall-of-fame/members/page2'\n",
    "response2 = requests.get(website_url2)\n",
    "\n",
    "response2.status_code"
   ]
  },
  {
   "cell_type": "code",
   "execution_count": 12,
   "id": "83c06e33",
   "metadata": {},
   "outputs": [
    {
     "name": "stdout",
     "output_type": "stream",
     "text": [
      "<title>Hall of Fame Members | Country Music Hall of Fame</title>\n"
     ]
    }
   ],
   "source": [
    "soup2 = BeautifulSoup(response2.content, 'lxml')\n",
    "print(soup2.title)"
   ]
  },
  {
   "cell_type": "code",
   "execution_count": 13,
   "id": "380e75b9",
   "metadata": {},
   "outputs": [
    {
     "data": {
      "text/plain": [
       "['Bobby Braddock',\n",
       " 'Harold Bradley',\n",
       " 'Jerry Bradley',\n",
       " 'Owen Bradley',\n",
       " 'Rod Brasfield',\n",
       " 'Garth Brooks',\n",
       " 'Brooks & Dunn',\n",
       " 'Jim Ed Brown',\n",
       " 'Jim Ed Brown and the Browns']"
      ]
     },
     "execution_count": 13,
     "metadata": {},
     "output_type": "execute_result"
    }
   ],
   "source": [
    "namelist2 = []\n",
    "for names in soup2.find_all('h3'):\n",
    "    namelist2.append(names.get_text())\n",
    "namelist2"
   ]
  },
  {
   "cell_type": "markdown",
   "id": "4a53c1ab",
   "metadata": {},
   "source": [
    "okay!  it looks like it's working ... now to play with a for-loop ..."
   ]
  },
  {
   "cell_type": "code",
   "execution_count": 17,
   "id": "e70b0de8",
   "metadata": {},
   "outputs": [],
   "source": [
    "page1 = \"https://countrymusichalloffame.org/hall-of-fame/members/\"\n",
    "pagesall = \"https://countrymusichalloffame.org/hall-of-fame/members/page/\" #no pages so code can choose\n",
    "startpage = 2\n",
    "lastpage = 17 #16 + 1 because python\n",
    "\n",
    "namelistall = []\n",
    "yearlistalldirty = []\n",
    "wholesite = []\n",
    "yearlistall = []\n"
   ]
  },
  {
   "cell_type": "code",
   "execution_count": 18,
   "id": "58a30699",
   "metadata": {},
   "outputs": [
    {
     "data": {
      "text/plain": [
       "['https://countrymusichalloffame.org/hall-of-fame/members/',\n",
       " 'https://countrymusichalloffame.org/hall-of-fame/members/page/2',\n",
       " 'https://countrymusichalloffame.org/hall-of-fame/members/page/3',\n",
       " 'https://countrymusichalloffame.org/hall-of-fame/members/page/4',\n",
       " 'https://countrymusichalloffame.org/hall-of-fame/members/page/5',\n",
       " 'https://countrymusichalloffame.org/hall-of-fame/members/page/6',\n",
       " 'https://countrymusichalloffame.org/hall-of-fame/members/page/7',\n",
       " 'https://countrymusichalloffame.org/hall-of-fame/members/page/8',\n",
       " 'https://countrymusichalloffame.org/hall-of-fame/members/page/9',\n",
       " 'https://countrymusichalloffame.org/hall-of-fame/members/page/10',\n",
       " 'https://countrymusichalloffame.org/hall-of-fame/members/page/11',\n",
       " 'https://countrymusichalloffame.org/hall-of-fame/members/page/12',\n",
       " 'https://countrymusichalloffame.org/hall-of-fame/members/page/13',\n",
       " 'https://countrymusichalloffame.org/hall-of-fame/members/page/14',\n",
       " 'https://countrymusichalloffame.org/hall-of-fame/members/page/15',\n",
       " 'https://countrymusichalloffame.org/hall-of-fame/members/page/16']"
      ]
     },
     "execution_count": 18,
     "metadata": {},
     "output_type": "execute_result"
    }
   ],
   "source": [
    "for x in range(startpage, lastpage):\n",
    "    wholesite.append(pagesall + str(x))\n",
    "wholesite\n",
    "#not sure how to get page 1 in there ... but i'll figure out later.  technically i already have.  maybe a join?\n",
    "#nope - figured it out!\n",
    "#also note - repeating this cell over and over again stacks the pages on top of one another, repeating info. \n",
    "#had to rerun kernel\n",
    "\n",
    "wholesite.append(page1)"
   ]
  },
  {
   "cell_type": "code",
   "execution_count": 19,
   "id": "3de7417f",
   "metadata": {},
   "outputs": [],
   "source": [
    "for site in wholesite:\n",
    "    responseall = requests.get(site)\n",
    "    soupall = BeautifulSoup(responseall.content, 'lxml')\n",
    "    for names in soupall.find_all('h3'):\n",
    "        namelistall.append(names.get_text())\n",
    "    regexall = re.compile(r\"Inducted\")\n",
    "    for year in soupall.find_all(text = regexall):\n",
    "        yearlistalldirty.append(year)\n",
    "\n",
    "#note - this forloop didn't work until i fixed my wholesite list to include the first page.  \n",
    "#i guess because it didn't know where to start otherwise?\n",
    "#once i got the firstpage in there, it worked fine like all the other ones i did."
   ]
  },
  {
   "cell_type": "markdown",
   "id": "ce585bd4",
   "metadata": {},
   "source": [
    "list comprehension:  artist_list = [artist.text for artist in artist_names]\n",
    "lets you do the for names in soupalll function above all in one line instead of 3\n",
    "a more elegant and efficient way of doing the same thing\n",
    "\n",
    "if you find yourself initializing an empty list and then appending to it - it's worth thinking if you couldn't do it easier with a list comprehension"
   ]
  },
  {
   "cell_type": "markdown",
   "id": "0661976c",
   "metadata": {},
   "source": [
    "how andrew got the years:\n",
    "year_inducted_soup = soup.find_all('p')\n",
    "year_inducted_soup = soup.find_all('div', attrs = {class': \"vertical-card_content--copy\"})\n",
    "years_inducted = [int(re.findall(\"\\d+\", year_str.text)[0]) for year_str in year_inducted_soup\n",
    "                    if re.match(\"\\s+Inducted\\s\\d+\\s+\", year_str.text)]"
   ]
  },
  {
   "cell_type": "code",
   "execution_count": 22,
   "id": "9acabbe1",
   "metadata": {},
   "outputs": [
    {
     "data": {
      "text/plain": [
       "['1962',\n",
       " '2005',\n",
       " '2001',\n",
       " '1966',\n",
       " '1973',\n",
       " '1969',\n",
       " '2005',\n",
       " '2013',\n",
       " '1999',\n",
       " '2011',\n",
       " '2006',\n",
       " '2019',\n",
       " '1974',\n",
       " '1987',\n",
       " '2012',\n",
       " '2019',\n",
       " '2015',\n",
       " '2015',\n",
       " '1991',\n",
       " '2005',\n",
       " '2002',\n",
       " '1970',\n",
       " '1980',\n",
       " '2009',\n",
       " '2013',\n",
       " '1973',\n",
       " '2014',\n",
       " '1976',\n",
       " '2003',\n",
       " '1981',\n",
       " '2016',\n",
       " '1972',\n",
       " '2010',\n",
       " '2001',\n",
       " '1966',\n",
       " '1983',\n",
       " '2007',\n",
       " '2001',\n",
       " '1985',\n",
       " '2004',\n",
       " '1967',\n",
       " '1990',\n",
       " '2016',\n",
       " '1967',\n",
       " '1982',\n",
       " '1980',\n",
       " '2001',\n",
       " '2007',\n",
       " '2018',\n",
       " '1994',\n",
       " '2008',\n",
       " '2008',\n",
       " '1966',\n",
       " '2001',\n",
       " '1982',\n",
       " '1997',\n",
       " '2010',\n",
       " '2017',\n",
       " '2006',\n",
       " '2001',\n",
       " '1992',\n",
       " '1978',\n",
       " '2001',\n",
       " '1974',\n",
       " '2004',\n",
       " '2001',\n",
       " '1997',\n",
       " '1979',\n",
       " '2001',\n",
       " '1988',\n",
       " '1966',\n",
       " '2009',\n",
       " '2015',\n",
       " '2009',\n",
       " '2011',\n",
       " '1995',\n",
       " '2014',\n",
       " '1970',\n",
       " '1996',\n",
       " '1998',\n",
       " '2001',\n",
       " '1993',\n",
       " '2015',\n",
       " '1996',\n",
       " '1999',\n",
       " '1975',\n",
       " '1984',\n",
       " '2001',\n",
       " '2001',\n",
       " '1998',\n",
       " '1992',\n",
       " '1996',\n",
       " '2000',\n",
       " '2017',\n",
       " '1967',\n",
       " '1964',\n",
       " '2012',\n",
       " '1982',\n",
       " '1961',\n",
       " '2013',\n",
       " '1988',\n",
       " '1961',\n",
       " '1986',\n",
       " '1971',\n",
       " '2017',\n",
       " '2011',\n",
       " '2010',\n",
       " '1967',\n",
       " '2018',\n",
       " '2003',\n",
       " '2012',\n",
       " '1979',\n",
       " '1980',\n",
       " '1989',\n",
       " '2019',\n",
       " '1989',\n",
       " '2008',\n",
       " '2006',\n",
       " '1986',\n",
       " '2008',\n",
       " '1989',\n",
       " '2007',\n",
       " '1984',\n",
       " '1977',\n",
       " '2016',\n",
       " '1965',\n",
       " '1981',\n",
       " '1999',\n",
       " '2002',\n",
       " '1997',\n",
       " '1995',\n",
       " '1976',\n",
       " '1998',\n",
       " '2018',\n",
       " '2010',\n",
       " '1961',\n",
       " '1968',\n",
       " '2014',\n",
       " '1998',\n",
       " '2000']"
      ]
     },
     "execution_count": 22,
     "metadata": {},
     "output_type": "execute_result"
    }
   ],
   "source": [
    "#namelistall\n",
    "#yearlistalldirty\n",
    "\n",
    "for x in yearlistalldirty:\n",
    "    yearlistall.append(x[-22:-18])\n",
    "yearlistall"
   ]
  },
  {
   "cell_type": "code",
   "execution_count": 23,
   "id": "bcfaaa7d",
   "metadata": {},
   "outputs": [
    {
     "data": {
      "text/html": [
       "<div>\n",
       "<style scoped>\n",
       "    .dataframe tbody tr th:only-of-type {\n",
       "        vertical-align: middle;\n",
       "    }\n",
       "\n",
       "    .dataframe tbody tr th {\n",
       "        vertical-align: top;\n",
       "    }\n",
       "\n",
       "    .dataframe thead th {\n",
       "        text-align: right;\n",
       "    }\n",
       "</style>\n",
       "<table border=\"1\" class=\"dataframe\">\n",
       "  <thead>\n",
       "    <tr style=\"text-align: right;\">\n",
       "      <th></th>\n",
       "      <th>names</th>\n",
       "      <th>induction year</th>\n",
       "    </tr>\n",
       "  </thead>\n",
       "  <tbody>\n",
       "    <tr>\n",
       "      <th>0</th>\n",
       "      <td>Roy Acuff</td>\n",
       "      <td>1962</td>\n",
       "    </tr>\n",
       "    <tr>\n",
       "      <th>1</th>\n",
       "      <td>Alabama</td>\n",
       "      <td>2005</td>\n",
       "    </tr>\n",
       "    <tr>\n",
       "      <th>2</th>\n",
       "      <td>Bill Anderson</td>\n",
       "      <td>2001</td>\n",
       "    </tr>\n",
       "    <tr>\n",
       "      <th>3</th>\n",
       "      <td>Eddy Arnold</td>\n",
       "      <td>1966</td>\n",
       "    </tr>\n",
       "    <tr>\n",
       "      <th>4</th>\n",
       "      <td>Chet Atkins</td>\n",
       "      <td>1973</td>\n",
       "    </tr>\n",
       "    <tr>\n",
       "      <th>...</th>\n",
       "      <td>...</td>\n",
       "      <td>...</td>\n",
       "    </tr>\n",
       "    <tr>\n",
       "      <th>135</th>\n",
       "      <td>Hank Williams</td>\n",
       "      <td>1961</td>\n",
       "    </tr>\n",
       "    <tr>\n",
       "      <th>136</th>\n",
       "      <td>Bob Wills</td>\n",
       "      <td>1968</td>\n",
       "    </tr>\n",
       "    <tr>\n",
       "      <th>137</th>\n",
       "      <td>Mac Wiseman</td>\n",
       "      <td>2014</td>\n",
       "    </tr>\n",
       "    <tr>\n",
       "      <th>138</th>\n",
       "      <td>Tammy Wynette</td>\n",
       "      <td>1998</td>\n",
       "    </tr>\n",
       "    <tr>\n",
       "      <th>139</th>\n",
       "      <td>Faron Young</td>\n",
       "      <td>2000</td>\n",
       "    </tr>\n",
       "  </tbody>\n",
       "</table>\n",
       "<p>140 rows × 2 columns</p>\n",
       "</div>"
      ],
      "text/plain": [
       "             names induction year\n",
       "0        Roy Acuff           1962\n",
       "1          Alabama           2005\n",
       "2    Bill Anderson           2001\n",
       "3      Eddy Arnold           1966\n",
       "4      Chet Atkins           1973\n",
       "..             ...            ...\n",
       "135  Hank Williams           1961\n",
       "136      Bob Wills           1968\n",
       "137    Mac Wiseman           2014\n",
       "138  Tammy Wynette           1998\n",
       "139    Faron Young           2000\n",
       "\n",
       "[140 rows x 2 columns]"
      ]
     },
     "execution_count": 23,
     "metadata": {},
     "output_type": "execute_result"
    }
   ],
   "source": [
    "allinductees = pd.DataFrame()\n",
    "allinductees['names'] = namelistall\n",
    "allinductees['induction year'] = yearlistall\n",
    "allinductees"
   ]
  },
  {
   "cell_type": "markdown",
   "id": "0d1e41d5",
   "metadata": {},
   "source": [
    "#5: Create a visual using the data that you scraped. Prepare a short (<5 minute) presentation."
   ]
  },
  {
   "cell_type": "code",
   "execution_count": 35,
   "id": "5f01e5a9",
   "metadata": {
    "scrolled": true
   },
   "outputs": [
    {
     "data": {
      "text/plain": [
       "names\n",
       "Alabama                     1\n",
       "Merle Travis                1\n",
       "Little Jimmy Dickens        1\n",
       "Loretta Lynn                1\n",
       "Mac Wiseman                 1\n",
       "                           ..\n",
       "Ernest V. “Pop” Stoneman    1\n",
       "Ernest Tubb                 1\n",
       "Emmylou Harris              1\n",
       "Elvis Presley               1\n",
       "​Jerry Reed                 1\n",
       "Length: 140, dtype: int64"
      ]
     },
     "execution_count": 35,
     "metadata": {},
     "output_type": "execute_result"
    }
   ],
   "source": [
    "allinductees.value_counts(\"induction year\")\n",
    "allinductees.value_counts(\"names\")"
   ]
  },
  {
   "cell_type": "code",
   "execution_count": 32,
   "id": "cb9f23c1",
   "metadata": {
    "scrolled": true
   },
   "outputs": [
    {
     "data": {
      "text/plain": [
       "<AxesSubplot:>"
      ]
     },
     "execution_count": 32,
     "metadata": {},
     "output_type": "execute_result"
    },
    {
     "data": {
      "image/png": "[encoded data removed]",
      "text/plain": [
       "<Figure size 1440x216 with 1 Axes>"
      ]
     },
     "metadata": {
      "needs_background": "light"
     },
     "output_type": "display_data"
    }
   ],
   "source": [
    "allinductees['induction year'].value_counts().sort_index().plot(kind= 'bar', figsize=(20,3))"
   ]
  },
  {
   "cell_type": "markdown",
   "id": "f7f14aa4",
   "metadata": {},
   "source": [
    "#Holland Griffis' cool graph code:"
   ]
  },
  {
   "cell_type": "code",
   "execution_count": null,
   "id": "8310b81f",
   "metadata": {},
   "outputs": [],
   "source": [
    "group = dfsorted.groupby('Inducted').count().reset_index()\n",
    "group = group.rename({'Name': 'Count'}, axis=1)\n",
    "plt.figure(figsize=(20,10))\n",
    "plt.bar(group['Inducted'],height = group['Count'])\n",
    "plt.xlabel('Year',fontsize=20)\n",
    "plt.ylabel('# Inducted',fontsize=20)\n",
    "plt.title('Hall of Fame Inductees',fontsize=30)\n",
    "plt.grid(True, color = 'black')\n",
    "plt.xticks(fontsize=20)\n",
    "plt.savefig('../images/count2.png', transparent = True)\n",
    "plt.show()"
   ]
  },
  {
   "cell_type": "code",
   "execution_count": 51,
   "id": "41e9489e",
   "metadata": {
    "scrolled": true
   },
   "outputs": [
    {
     "data": {
      "text/html": [
       "<div>\n",
       "<style scoped>\n",
       "    .dataframe tbody tr th:only-of-type {\n",
       "        vertical-align: middle;\n",
       "    }\n",
       "\n",
       "    .dataframe tbody tr th {\n",
       "        vertical-align: top;\n",
       "    }\n",
       "\n",
       "    .dataframe thead th {\n",
       "        text-align: right;\n",
       "    }\n",
       "</style>\n",
       "<table border=\"1\" class=\"dataframe\">\n",
       "  <thead>\n",
       "    <tr style=\"text-align: right;\">\n",
       "      <th></th>\n",
       "      <th>names</th>\n",
       "      <th>induction year</th>\n",
       "      <th>len</th>\n",
       "    </tr>\n",
       "  </thead>\n",
       "  <tbody>\n",
       "    <tr>\n",
       "      <th>0</th>\n",
       "      <td>Roy Acuff</td>\n",
       "      <td>1962</td>\n",
       "      <td>9</td>\n",
       "    </tr>\n",
       "    <tr>\n",
       "      <th>1</th>\n",
       "      <td>Alabama</td>\n",
       "      <td>2005</td>\n",
       "      <td>7</td>\n",
       "    </tr>\n",
       "    <tr>\n",
       "      <th>2</th>\n",
       "      <td>Bill Anderson</td>\n",
       "      <td>2001</td>\n",
       "      <td>13</td>\n",
       "    </tr>\n",
       "    <tr>\n",
       "      <th>3</th>\n",
       "      <td>Eddy Arnold</td>\n",
       "      <td>1966</td>\n",
       "      <td>11</td>\n",
       "    </tr>\n",
       "    <tr>\n",
       "      <th>4</th>\n",
       "      <td>Chet Atkins</td>\n",
       "      <td>1973</td>\n",
       "      <td>11</td>\n",
       "    </tr>\n",
       "    <tr>\n",
       "      <th>...</th>\n",
       "      <td>...</td>\n",
       "      <td>...</td>\n",
       "      <td>...</td>\n",
       "    </tr>\n",
       "    <tr>\n",
       "      <th>135</th>\n",
       "      <td>Hank Williams</td>\n",
       "      <td>1961</td>\n",
       "      <td>13</td>\n",
       "    </tr>\n",
       "    <tr>\n",
       "      <th>136</th>\n",
       "      <td>Bob Wills</td>\n",
       "      <td>1968</td>\n",
       "      <td>9</td>\n",
       "    </tr>\n",
       "    <tr>\n",
       "      <th>137</th>\n",
       "      <td>Mac Wiseman</td>\n",
       "      <td>2014</td>\n",
       "      <td>11</td>\n",
       "    </tr>\n",
       "    <tr>\n",
       "      <th>138</th>\n",
       "      <td>Tammy Wynette</td>\n",
       "      <td>1998</td>\n",
       "      <td>13</td>\n",
       "    </tr>\n",
       "    <tr>\n",
       "      <th>139</th>\n",
       "      <td>Faron Young</td>\n",
       "      <td>2000</td>\n",
       "      <td>11</td>\n",
       "    </tr>\n",
       "  </tbody>\n",
       "</table>\n",
       "<p>140 rows × 3 columns</p>\n",
       "</div>"
      ],
      "text/plain": [
       "             names induction year  len\n",
       "0        Roy Acuff           1962    9\n",
       "1          Alabama           2005    7\n",
       "2    Bill Anderson           2001   13\n",
       "3      Eddy Arnold           1966   11\n",
       "4      Chet Atkins           1973   11\n",
       "..             ...            ...  ...\n",
       "135  Hank Williams           1961   13\n",
       "136      Bob Wills           1968    9\n",
       "137    Mac Wiseman           2014   11\n",
       "138  Tammy Wynette           1998   13\n",
       "139    Faron Young           2000   11\n",
       "\n",
       "[140 rows x 3 columns]"
      ]
     },
     "execution_count": 51,
     "metadata": {},
     "output_type": "execute_result"
    }
   ],
   "source": [
    "#well, i was trying to get a len to count the blank spaces between the names - to get the number of words in a name ...\n",
    "#but i'm not figuring it out this time around.  So ... total length of name it is?\n",
    "\n",
    "allinductees['len']=allinductees.apply(lambda x: len(x.names), axis=1)\n",
    "allinductees"
   ]
  },
  {
   "cell_type": "markdown",
   "id": "a8f4cb9e",
   "metadata": {},
   "source": [
    "all my numbers/years may be showing on x-axis possibly because the type is object and not integer.  "
   ]
  },
  {
   "cell_type": "code",
   "execution_count": 57,
   "id": "d51f8813",
   "metadata": {},
   "outputs": [],
   "source": [
    "#re.findall(r\"\\s+\", allinductees['names'])\n",
    "#nope ... not working"
   ]
  },
  {
   "cell_type": "code",
   "execution_count": 58,
   "id": "c66676cf",
   "metadata": {},
   "outputs": [
    {
     "data": {
      "text/plain": [
       "len\n",
       "13    31\n",
       "12    26\n",
       "11    22\n",
       "10    17\n",
       "14    10\n",
       "9      8\n",
       "19     6\n",
       "20     5\n",
       "16     4\n",
       "15     3\n",
       "7      2\n",
       "17     2\n",
       "27     2\n",
       "18     1\n",
       "24     1\n",
       "dtype: int64"
      ]
     },
     "execution_count": 58,
     "metadata": {},
     "output_type": "execute_result"
    }
   ],
   "source": [
    "allinductees.value_counts(\"len\")"
   ]
  },
  {
   "cell_type": "code",
   "execution_count": 76,
   "id": "c8d1ae41",
   "metadata": {},
   "outputs": [
    {
     "data": {
      "image/png": "[encoded data removed]",
      "text/plain": [
       "<Figure size 432x288 with 1 Axes>"
      ]
     },
     "metadata": {
      "needs_background": "light"
     },
     "output_type": "display_data"
    }
   ],
   "source": [
    "plt.hist(allinductees['len'], range=[0,30], bins=30)\n",
    "plt.show()\n",
    "#why can't i get labels to work!?  "
   ]
  },
  {
   "cell_type": "markdown",
   "id": "d8c3349e",
   "metadata": {},
   "source": [
    "Derek Price's pretty scatterplot thing:"
   ]
  },
  {
   "cell_type": "code",
   "execution_count": 1,
   "id": "f6de6fe0",
   "metadata": {},
   "outputs": [
    {
     "ename": "NameError",
     "evalue": "name 'sns' is not defined",
     "output_type": "error",
     "traceback": [
      "\u001b[1;31m---------------------------------------------------------------------------\u001b[0m",
      "\u001b[1;31mNameError\u001b[0m                                 Traceback (most recent call last)",
      "\u001b[1;32m<ipython-input-1-71f55d163fc5>\u001b[0m in \u001b[0;36m<module>\u001b[1;34m\u001b[0m\n\u001b[1;32m----> 1\u001b[1;33m \u001b[0msns\u001b[0m\u001b[1;33m.\u001b[0m\u001b[0mstripplot\u001b[0m\u001b[1;33m(\u001b[0m\u001b[0my\u001b[0m \u001b[1;33m=\u001b[0m \u001b[0msorted_df\u001b[0m\u001b[1;33m[\u001b[0m\u001b[1;34m\"Induction Year\"\u001b[0m\u001b[1;33m]\u001b[0m\u001b[1;33m,\u001b[0m \u001b[0mx\u001b[0m \u001b[1;33m=\u001b[0m \u001b[0msorted_df\u001b[0m\u001b[1;33m[\u001b[0m\u001b[1;34m'namelen'\u001b[0m\u001b[1;33m]\u001b[0m\u001b[1;33m)\u001b[0m\u001b[1;33m\u001b[0m\u001b[1;33m\u001b[0m\u001b[0m\n\u001b[0m\u001b[0;32m      2\u001b[0m \u001b[0mplt\u001b[0m\u001b[1;33m.\u001b[0m\u001b[0mtitle\u001b[0m\u001b[1;33m(\u001b[0m\u001b[1;34m\"Name lengths of Winners Over Decades\"\u001b[0m\u001b[1;33m)\u001b[0m\u001b[1;33m\u001b[0m\u001b[1;33m\u001b[0m\u001b[0m\n\u001b[0;32m      3\u001b[0m \u001b[0mplt\u001b[0m\u001b[1;33m.\u001b[0m\u001b[0mshow\u001b[0m\u001b[1;33m(\u001b[0m\u001b[1;33m)\u001b[0m\u001b[1;33m\u001b[0m\u001b[1;33m\u001b[0m\u001b[0m\n",
      "\u001b[1;31mNameError\u001b[0m: name 'sns' is not defined"
     ]
    }
   ],
   "source": [
    "sns.stripplot(y = sorted_df[\"Induction Year\"], x = sorted_df['namelen'])\n",
    "plt.title(\"Name lengths of Winners Over Decades\")\n",
    "plt.show()"
   ]
  },
  {
   "cell_type": "code",
   "execution_count": null,
   "id": "45e8fe81",
   "metadata": {},
   "outputs": [],
   "source": []
  }
 ],
 "metadata": {
  "kernelspec": {
   "display_name": "Python 3",
   "language": "python",
   "name": "python3"
  },
  "language_info": {
   "codemirror_mode": {
    "name": "ipython",
    "version": 3
   },
   "file_extension": ".py",
   "mimetype": "text/x-python",
   "name": "python",
   "nbconvert_exporter": "python",
   "pygments_lexer": "ipython3",
   "version": "3.8.8"
  }
 },
 "nbformat": 4,
 "nbformat_minor": 5
}
